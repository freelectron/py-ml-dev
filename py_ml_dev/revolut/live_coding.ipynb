{
 "cells": [
  {
   "metadata": {},
   "cell_type": "code",
   "outputs": [],
   "execution_count": null,
   "source": [
    "\"\"\"\n",
    "Running CPython 3.10\n",
    "42434547464844494138394033343536372728293031322223242526192021171816151413121110897654321\n",
    "company logo\n",
    "\n",
    "Given the root of a binary tree, return all root-to-leaf paths in any order.\n",
    "\n",
    "A leaf is a node with no children.\n",
    "\n",
    "Example 1:\n",
    "\n",
    "Input: root = TreeNode(\n",
    "    val=1,\n",
    "    left=TreeNode(val=2, right=TreeNode(5)),\n",
    "    right=TreeNode(val=3),\n",
    ")\n",
    "#          1\n",
    "#    2          3\n",
    "#      5\n",
    "Output: [\"1->2->5\",\"1->3\"]\n",
    "Example 2:\n",
    "\n",
    "Input: root = TreeNode(val=1)\n",
    "Output: [\"1\"]\n",
    "\n",
    "\n",
    "Constraints:\n",
    "\n",
    "The number of nodes in the tree is in the range [1, 100].\n",
    "-100 <= Node.val <= 100\n",
    "Maxim Rostov has returned to the pad after 39s.\n",
    "Maxim Rostov\n",
    "*values: object, hint\n",
    "\"\"\""
   ],
   "id": "99c488b1edf30663"
  },
  {
   "metadata": {
    "ExecuteTime": {
     "end_time": "2025-09-24T10:25:32.594716Z",
     "start_time": "2025-09-24T10:25:32.587803Z"
    }
   },
   "cell_type": "code",
   "source": [
    "from re import L\n",
    "from typing import Optional\n",
    "\n",
    "class TreeNode:\n",
    "    def __init__(self, val=0, left=None, right=None):\n",
    "        self.val = val\n",
    "        self.left = left\n",
    "        self.right = right\n",
    "\n",
    "\n",
    "# Lets create some test\n",
    "\n",
    "tree_test1 = TreeNode(val=1)\n",
    "\n",
    "tree_test2 = TreeNode(\n",
    "    val=1,\n",
    "    left=TreeNode(val=2, right=TreeNode(5)),\n",
    "    right=TreeNode(val=3),\n",
    ")\n",
    "\n",
    "tree_test3 = TreeNode(\n",
    "    val=1,\n",
    "    left=TreeNode(val=2, right=TreeNode(5)),\n",
    "    right=TreeNode(val=-3,\n",
    "                   right=TreeNode(5),\n",
    "                   left=TreeNode(\n",
    "                       val=1,\n",
    "                       left=TreeNode(val=-22, right=TreeNode(5)),\n",
    "                       right=TreeNode(val=3),\n",
    "                   )),\n",
    ")\n",
    "\n",
    "## Could ve been parsed out\n",
    "def traverse(node: Optional[TreeNode]):\n",
    "    if not node:\n",
    "        return None\n",
    "    else:\n",
    "        return node.val, [traverse(node.left), traverse(node.right)]\n",
    "\n",
    "traverse(tree_test3)"
   ],
   "id": "5362c2cedd6352fa",
   "outputs": [
    {
     "data": {
      "text/plain": [
       "(1,\n",
       " [(2, [None, (5, [None, None])]),\n",
       "  (-3,\n",
       "   [(1, [(-22, [None, (5, [None, None])]), (3, [None, None])]),\n",
       "    (5, [None, None])])])"
      ]
     },
     "execution_count": 45,
     "metadata": {},
     "output_type": "execute_result"
    }
   ],
   "execution_count": 45
  },
  {
   "metadata": {},
   "cell_type": "code",
   "outputs": [],
   "execution_count": null,
   "source": [
    "\n",
    "def dfs(root: TreeNode):\n",
    "    # todo: handle if just one or none\n",
    "    stack = [(root, f\"{root.val}\")]\n",
    "    res = list()\n",
    "\n",
    "    while stack:\n",
    "        node, path = stack.pop()\n",
    "\n",
    "        if not node.left and not node.right:\n",
    "            res.append(path)\n",
    "\n",
    "        if node.left:\n",
    "            stack.append((node.left, f\"{path}->{node.left.val}\"))\n",
    "        if node.right:\n",
    "            stack.append((node.right, f\"{path}->{node.right.val}\"))\n",
    "\n",
    "    return res\n",
    "\n",
    "\n",
    "def main(root: TreeNode):\n",
    "    # print(traverse(tree_test1))\n",
    "    # print(traverse(tree_test2))\n",
    "    # print(traverse(tree_test3))\n",
    "    print(dfs(tree_test2))\n",
    "\n",
    "main(tree_test1)\n"
   ],
   "id": "4ade60d78cf4b75d"
  },
  {
   "metadata": {
    "ExecuteTime": {
     "end_time": "2025-09-24T10:03:43.735898Z",
     "start_time": "2025-09-24T10:03:43.730894Z"
    }
   },
   "cell_type": "code",
   "source": [
    "class TreeNode:\n",
    "    def __init__(self, val=0, left=None, right=None):\n",
    "        self.val = val\n",
    "        self.left = left\n",
    "        self.right = right\n",
    "\n",
    "tree_test1 = TreeNode(val=1)\n",
    "\n",
    "tree_test2 = TreeNode(\n",
    "    val=1,\n",
    "    left=TreeNode(val=2, right=TreeNode(5)),\n",
    "    right=TreeNode(val=3),\n",
    ")\n",
    "\n",
    "tree_test3 = TreeNode(\n",
    "    val=1,\n",
    "    left=TreeNode(val=2, right=TreeNode(5)),\n",
    "    right=TreeNode(\n",
    "        val=-3,\n",
    "        right=TreeNode(5),\n",
    "        left=TreeNode(\n",
    "           val=1,\n",
    "           left=TreeNode(val=-22, right=TreeNode(5)),\n",
    "           right=TreeNode(val=3),\n",
    "        )\n",
    "    ),\n",
    ")"
   ],
   "id": "4fbd859bf74ab79b",
   "outputs": [],
   "execution_count": 2
  },
  {
   "metadata": {
    "ExecuteTime": {
     "end_time": "2025-09-24T10:16:31.717917Z",
     "start_time": "2025-09-24T10:16:31.714088Z"
    }
   },
   "cell_type": "code",
   "source": [
    "def dfs(node: TreeNode, path: str):\n",
    "    path = path + f\"{node.val}->\"\n",
    "\n",
    "    if not node.left and not node.right:\n",
    "        return path[:-2]\n",
    "\n",
    "    if not node.left and node.right:\n",
    "        return dfs(node.right, path)\n",
    "    if node.left and not node.right:\n",
    "        return dfs(node.left, path)\n",
    "\n",
    "    return [dfs(node.left, path), dfs(node.right, path)]"
   ],
   "id": "4e072d689ec6300",
   "outputs": [],
   "execution_count": 38
  },
  {
   "metadata": {
    "ExecuteTime": {
     "end_time": "2025-09-24T10:37:59.543852Z",
     "start_time": "2025-09-24T10:37:59.539142Z"
    }
   },
   "cell_type": "code",
   "source": [
    "def dfs(node: TreeNode, path: str):\n",
    "    path = path + f\"{node.val}->\"\n",
    "\n",
    "    if not node.left and not node.right:\n",
    "        return path[:-2]\n",
    "\n",
    "    if not node.left and node.right:\n",
    "        return dfs(node.right, path)\n",
    "    if node.left and not node.right:\n",
    "        return dfs(node.left, path)\n",
    "\n",
    "    return [dfs(node.left, path), dfs(node.right, path)]"
   ],
   "id": "a8746a6278952537",
   "outputs": [],
   "execution_count": 47
  },
  {
   "metadata": {
    "ExecuteTime": {
     "end_time": "2025-09-24T10:38:00.671644Z",
     "start_time": "2025-09-24T10:38:00.667479Z"
    }
   },
   "cell_type": "code",
   "source": "dfs(tree_test2,\"\")",
   "id": "93d36e6ef1ca50e2",
   "outputs": [
    {
     "data": {
      "text/plain": [
       "['1->2->5', '1->3']"
      ]
     },
     "execution_count": 48,
     "metadata": {},
     "output_type": "execute_result"
    }
   ],
   "execution_count": 48
  },
  {
   "metadata": {
    "ExecuteTime": {
     "end_time": "2025-09-24T10:38:02.360567Z",
     "start_time": "2025-09-24T10:38:02.356821Z"
    }
   },
   "cell_type": "code",
   "source": "dfs(tree_test1,\"\")",
   "id": "a5ca8a8a028de539",
   "outputs": [
    {
     "data": {
      "text/plain": [
       "'1'"
      ]
     },
     "execution_count": 49,
     "metadata": {},
     "output_type": "execute_result"
    }
   ],
   "execution_count": 49
  },
  {
   "metadata": {
    "ExecuteTime": {
     "end_time": "2025-09-24T10:38:02.986011Z",
     "start_time": "2025-09-24T10:38:02.980836Z"
    }
   },
   "cell_type": "code",
   "source": "dfs(tree_test3,\"\")",
   "id": "8e732bb16c8d7eb",
   "outputs": [
    {
     "data": {
      "text/plain": [
       "['1->2->5', [['1->-3->1->-22->5', '1->-3->1->3'], '1->-3->5']]"
      ]
     },
     "execution_count": 50,
     "metadata": {},
     "output_type": "execute_result"
    }
   ],
   "execution_count": 50
  }
 ],
 "metadata": {
  "kernelspec": {
   "display_name": "Python 3",
   "language": "python",
   "name": "python3"
  },
  "language_info": {
   "codemirror_mode": {
    "name": "ipython",
    "version": 2
   },
   "file_extension": ".py",
   "mimetype": "text/x-python",
   "name": "python",
   "nbconvert_exporter": "python",
   "pygments_lexer": "ipython2",
   "version": "2.7.6"
  }
 },
 "nbformat": 4,
 "nbformat_minor": 5
}
