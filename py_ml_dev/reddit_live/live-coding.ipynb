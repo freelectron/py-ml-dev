{
 "cells": [
  {
   "cell_type": "code",
   "id": "a9f50fd2-7d92-4e1f-a384-7d62b4f5d5b7",
   "metadata": {
    "ExecuteTime": {
     "end_time": "2025-06-16T11:56:50.570892Z",
     "start_time": "2025-06-16T11:56:50.312399Z"
    }
   },
   "source": [
    "import pandas as pd \n",
    "import json"
   ],
   "outputs": [],
   "execution_count": 1
  },
  {
   "cell_type": "code",
   "id": "5ce574d1-415e-496d-87f3-d0a0a0a2ad07",
   "metadata": {
    "ExecuteTime": {
     "end_time": "2025-06-16T11:56:51.018606Z",
     "start_time": "2025-06-16T11:56:51.013492Z"
    }
   },
   "source": [
    "with open(\"data.json\") as f:\n",
    "    data = json.load(f)"
   ],
   "outputs": [],
   "execution_count": 2
  },
  {
   "metadata": {
    "ExecuteTime": {
     "end_time": "2025-06-16T11:56:51.790662Z",
     "start_time": "2025-06-16T11:56:51.785277Z"
    }
   },
   "cell_type": "code",
   "source": "data[:10]",
   "id": "7d0cbc3c627d7e33",
   "outputs": [
    {
     "data": {
      "text/plain": [
       "[[3.987, 0.724, 7.267, 'dogs', 0],\n",
       " [3.76, 1.226, 7.217, 'cats', 0],\n",
       " [3.263, 1.683, 6.046, 'cats', 0],\n",
       " [2.946, 3.555, 2.447, 'dogs', 1],\n",
       " [1.537, 0.851, 4.93, 'stocks', 0],\n",
       " [0.966, 1.712, None, 'stocks', 0],\n",
       " [1.198, 1.117, 4.491, 'cats', 0],\n",
       " [2.992, 2.658, 7.195, 'dogs', 0],\n",
       " [2.523, 3.898, 6.026, 'cats', 0],\n",
       " [2.391, 1.176, 7.668, 'dogs', 0]]"
      ]
     },
     "execution_count": 3,
     "metadata": {},
     "output_type": "execute_result"
    }
   ],
   "execution_count": 3
  },
  {
   "metadata": {
    "ExecuteTime": {
     "end_time": "2025-06-16T11:56:52.740539Z",
     "start_time": "2025-06-16T11:56:52.731668Z"
    }
   },
   "cell_type": "code",
   "source": [
    "l = list()\n",
    "for row in data:\n",
    "    row = {\"time_cats\": row[0], \"time_dogs\": row[1], \"time_stocks\": row[2], \"subreddit\": row[3], \"click\": row[4]}\n",
    "    l.append(row)\n",
    "\n",
    "df = pd.DataFrame(data=l)"
   ],
   "id": "7b38fef7b35bed5f",
   "outputs": [],
   "execution_count": 4
  },
  {
   "metadata": {
    "ExecuteTime": {
     "end_time": "2025-06-16T11:56:55.068128Z",
     "start_time": "2025-06-16T11:56:55.060898Z"
    }
   },
   "cell_type": "code",
   "source": [
    "df_subreddit = pd.get_dummies(df[[\"subreddit\"]], prefix='subreddit')\n",
    "df_subreddit = df_subreddit.astype(int)\n",
    "\n",
    "df = pd.concat([df, df_subreddit], axis=1)\n",
    "\n",
    "df = df.drop(columns=[\"subreddit\"])\n",
    "\n",
    "df.dropna(inplace=True)\n"
   ],
   "id": "bfcb6590f60fdd30",
   "outputs": [],
   "execution_count": 5
  },
  {
   "metadata": {},
   "cell_type": "markdown",
   "source": "",
   "id": "a1f0e8f965693f79"
  },
  {
   "metadata": {},
   "cell_type": "markdown",
   "source": "",
   "id": "194022f0285a961a"
  },
  {
   "cell_type": "code",
   "id": "172ed4ca-9dde-4dc8-86cc-fb9ffa43161d",
   "metadata": {
    "ExecuteTime": {
     "end_time": "2025-06-16T11:56:58.322291Z",
     "start_time": "2025-06-16T11:56:58.318466Z"
    }
   },
   "source": [
    "y = df[\"click\"].values\n",
    "X = df.drop(columns=[\"click\"]).values\n"
   ],
   "outputs": [],
   "execution_count": 6
  },
  {
   "metadata": {
    "ExecuteTime": {
     "end_time": "2025-06-16T11:56:59.740018Z",
     "start_time": "2025-06-16T11:56:59.736294Z"
    }
   },
   "cell_type": "code",
   "source": "",
   "id": "71508037b763c0ee",
   "outputs": [
    {
     "data": {
      "text/plain": [
       "array([[3.987, 0.724, 7.267, 0.   , 1.   , 0.   ],\n",
       "       [3.76 , 1.226, 7.217, 1.   , 0.   , 0.   ],\n",
       "       [3.263, 1.683, 6.046, 1.   , 0.   , 0.   ],\n",
       "       ...,\n",
       "       [3.335, 0.901, 6.876, 1.   , 0.   , 0.   ],\n",
       "       [2.037, 0.163, 6.932, 0.   , 1.   , 0.   ],\n",
       "       [2.167, 1.213, 6.574, 0.   , 1.   , 0.   ]], shape=(4944, 6))"
      ]
     },
     "execution_count": 7,
     "metadata": {},
     "output_type": "execute_result"
    }
   ],
   "execution_count": 7
  },
  {
   "cell_type": "code",
   "id": "8338eca9-1c88-4cd1-8076-ea5dc7d600e4",
   "metadata": {
    "ExecuteTime": {
     "end_time": "2025-06-16T11:57:07.926168Z",
     "start_time": "2025-06-16T11:57:07.454878Z"
    }
   },
   "source": [
    "from sklearn.linear_model import LogisticRegressionCV\n",
    "from sklearn.model_selection import train_test_split\n",
    "\n",
    "X_train, X_test, y_train, y_test = train_test_split(df.values, y, test_size=0.33, random_state=42)\n"
   ],
   "outputs": [],
   "execution_count": 8
  },
  {
   "cell_type": "code",
   "execution_count": null,
   "id": "8d22ad41-f392-4ec9-bf8e-82e4f3eae402",
   "metadata": {},
   "outputs": [],
   "source": []
  },
  {
   "cell_type": "code",
   "execution_count": null,
   "id": "5b7db92c-7c8a-4fe6-8e76-79e8d923ce29",
   "metadata": {},
   "outputs": [],
   "source": []
  },
  {
   "cell_type": "code",
   "execution_count": null,
   "id": "07c7c4ba-458e-4f04-8871-8fcdfd04d315",
   "metadata": {},
   "outputs": [],
   "source": []
  },
  {
   "cell_type": "code",
   "execution_count": null,
   "id": "0a471c62-3e8e-4419-a901-376ab64c1e12",
   "metadata": {},
   "outputs": [],
   "source": []
  },
  {
   "cell_type": "code",
   "execution_count": null,
   "id": "7a209598-63bb-4e6a-8cf4-ad1245371ab9",
   "metadata": {},
   "outputs": [],
   "source": []
  },
  {
   "cell_type": "code",
   "execution_count": null,
   "id": "85b08ae8-26ec-4565-8ca0-9385a5d5f5f5",
   "metadata": {},
   "outputs": [],
   "source": []
  },
  {
   "cell_type": "code",
   "execution_count": null,
   "id": "5b5cdda8-e271-458b-8fa7-ab03c06acf7d",
   "metadata": {},
   "outputs": [],
   "source": []
  },
  {
   "cell_type": "code",
   "execution_count": null,
   "id": "5cf696a3-c16b-448c-8829-3fad0da5a065",
   "metadata": {},
   "outputs": [],
   "source": []
  }
 ],
 "metadata": {
  "kernelspec": {
   "display_name": "Python 3 (ipykernel)",
   "language": "python",
   "name": "python3"
  },
  "language_info": {
   "codemirror_mode": {
    "name": "ipython",
    "version": 3
   },
   "file_extension": ".py",
   "mimetype": "text/x-python",
   "name": "python",
   "nbconvert_exporter": "python",
   "pygments_lexer": "ipython3",
   "version": "3.13.3"
  }
 },
 "nbformat": 4,
 "nbformat_minor": 5
}
