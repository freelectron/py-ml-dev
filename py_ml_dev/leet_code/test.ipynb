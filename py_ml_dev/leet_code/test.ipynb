{
 "cells": [
  {
   "cell_type": "code",
   "id": "initial_id",
   "metadata": {
    "collapsed": true,
    "ExecuteTime": {
     "end_time": "2025-09-20T08:54:09.103947Z",
     "start_time": "2025-09-20T08:54:09.098346Z"
    }
   },
   "source": [
    "matrix = [[1,2,3],[4,5,6],[7,8,9]]\n",
    "matrix = [[5,1,9,11],[2,4,8,10],[13,3,6,7],[15,14,12,16]]\n",
    "\n",
    "for i in range(len(matrix)):\n",
    "    for j in range(i, len(matrix[i])):\n",
    "        c = matrix[i][j]\n",
    "        matrix[i][j] = matrix[j][i]\n",
    "        matrix[j][i] = c\n",
    "for i in range(len(matrix[0])):\n",
    "    c = matrix[:][i]\n",
    "    matrix[:][i] = matrix[:][len(matrix[0]) - i - 1]"
   ],
   "outputs": [
    {
     "data": {
      "text/plain": [
       "[[5, 2, 13, 15], [1, 4, 3, 14], [9, 8, 6, 12], [11, 10, 7, 16]]"
      ]
     },
     "execution_count": 10,
     "metadata": {},
     "output_type": "execute_result"
    }
   ],
   "execution_count": 10
  },
  {
   "metadata": {
    "ExecuteTime": {
     "end_time": "2025-09-20T09:18:36.045393Z",
     "start_time": "2025-09-20T09:18:36.039742Z"
    }
   },
   "cell_type": "code",
   "source": [
    "matrix = [[1,2,3],[4,5,6],[7,8,9]]\n",
    "for i in range(len(matrix)):\n",
    "    for j in range(len(matrix[0]) // 2):\n",
    "        c = matrix[i][j]\n",
    "        matrix[i][j] = matrix[len(matrix)-j-1][i]\n",
    "        matrix[len(matrix)-j-1][i] = c\n",
    "\n",
    "matrix"
   ],
   "id": "940c589f2e3b2541",
   "outputs": [
    {
     "data": {
      "text/plain": [
       "[[7, 2, 3], [8, 5, 6], [9, 4, 1]]"
      ]
     },
     "execution_count": 29,
     "metadata": {},
     "output_type": "execute_result"
    }
   ],
   "execution_count": 29
  },
  {
   "metadata": {
    "ExecuteTime": {
     "end_time": "2025-09-20T09:13:31.829131Z",
     "start_time": "2025-09-20T09:13:31.825685Z"
    }
   },
   "cell_type": "code",
   "source": [
    "matrix = [[1,2,3],[4,5,6],[7,8,9]]\n",
    "print(matrix[0][:])\n",
    "print(matrix[:][0])"
   ],
   "id": "a0682747c0d1aef4",
   "outputs": [
    {
     "name": "stdout",
     "output_type": "stream",
     "text": [
      "[1, 2, 3]\n",
      "[1, 2, 3]\n"
     ]
    }
   ],
   "execution_count": 27
  },
  {
   "metadata": {
    "ExecuteTime": {
     "end_time": "2025-09-21T11:39:54.211253Z",
     "start_time": "2025-09-21T11:39:54.207197Z"
    }
   },
   "cell_type": "code",
   "source": [
    "\n",
    "def rle_encode(s: str):\n",
    "    res = \"\"\n",
    "    i_s_p = s[0]\n",
    "    c = 1\n",
    "    for i_s in s[1:]:\n",
    "        if i_s_p == i_s:\n",
    "            c += 1\n",
    "        else:\n",
    "            res += str(c) + i_s_p\n",
    "            c = 1\n",
    "            i_s_p = i_s\n",
    "\n",
    "    res += str(c) + i_s_p\n",
    "    return res\n",
    "\n",
    "print(rle_encode(\"1211455555000\"))"
   ],
   "id": "713199f36739acc8",
   "outputs": [
    {
     "name": "stdout",
     "output_type": "stream",
     "text": [
      "111221145530\n"
     ]
    }
   ],
   "execution_count": 37
  },
  {
   "metadata": {
    "ExecuteTime": {
     "end_time": "2025-09-21T14:53:50.788237Z",
     "start_time": "2025-09-21T14:53:50.782701Z"
    }
   },
   "cell_type": "code",
   "source": [
    "word1 = \"intention\"\n",
    "word2 = \"execution\"\n",
    "m = len(word1)\n",
    "n = len(word2)\n",
    "dp = [ j if i==0 else j for i in range(m+1) for j in range(n+1) ]\n",
    "d"
   ],
   "id": "bfc7b607a8daf4dd",
   "outputs": [
    {
     "data": {
      "text/plain": [
       "[[None, None, None, None, None, None, None, None, None, None],\n",
       " [None, None, None, None, None, None, None, None, None, None],\n",
       " [None, None, None, None, None, None, None, None, None, None],\n",
       " [None, None, None, None, None, None, None, None, None, None],\n",
       " [None, None, None, None, None, None, None, None, None, None],\n",
       " [None, None, None, None, None, None, None, None, None, None],\n",
       " [None, None, None, None, None, None, None, None, None, None],\n",
       " [None, None, None, None, None, None, None, None, None, None],\n",
       " [None, None, None, None, None, None, None, None, None, None],\n",
       " [None, None, None, None, None, None, None, None, None, None]]"
      ]
     },
     "execution_count": 65,
     "metadata": {},
     "output_type": "execute_result"
    }
   ],
   "execution_count": 65
  },
  {
   "metadata": {
    "ExecuteTime": {
     "end_time": "2025-09-21T14:57:44.552152Z",
     "start_time": "2025-09-21T14:57:44.547077Z"
    }
   },
   "cell_type": "code",
   "source": "[[None]*(n+1) for _ in range(m+1)]\n",
   "id": "8c1e3186f5e03fcd",
   "outputs": [
    {
     "data": {
      "text/plain": [
       "[[None, None, None, None, None, None, None, None, None, None],\n",
       " [None, None, None, None, None, None, None, None, None, None],\n",
       " [None, None, None, None, None, None, None, None, None, None],\n",
       " [None, None, None, None, None, None, None, None, None, None],\n",
       " [None, None, None, None, None, None, None, None, None, None],\n",
       " [None, None, None, None, None, None, None, None, None, None],\n",
       " [None, None, None, None, None, None, None, None, None, None],\n",
       " [None, None, None, None, None, None, None, None, None, None],\n",
       " [None, None, None, None, None, None, None, None, None, None],\n",
       " [None, None, None, None, None, None, None, None, None, None]]"
      ]
     },
     "execution_count": 66,
     "metadata": {},
     "output_type": "execute_result"
    }
   ],
   "execution_count": 66
  },
  {
   "metadata": {
    "ExecuteTime": {
     "end_time": "2025-09-21T14:58:36.976082Z",
     "start_time": "2025-09-21T14:58:36.972073Z"
    }
   },
   "cell_type": "code",
   "source": "[[None]*(n+1)]* (m+1)",
   "id": "3168ea54d4ba55bc",
   "outputs": [
    {
     "data": {
      "text/plain": [
       "[[None, None, None, None, None, None, None, None, None, None],\n",
       " [None, None, None, None, None, None, None, None, None, None],\n",
       " [None, None, None, None, None, None, None, None, None, None],\n",
       " [None, None, None, None, None, None, None, None, None, None],\n",
       " [None, None, None, None, None, None, None, None, None, None],\n",
       " [None, None, None, None, None, None, None, None, None, None],\n",
       " [None, None, None, None, None, None, None, None, None, None],\n",
       " [None, None, None, None, None, None, None, None, None, None],\n",
       " [None, None, None, None, None, None, None, None, None, None],\n",
       " [None, None, None, None, None, None, None, None, None, None]]"
      ]
     },
     "execution_count": 67,
     "metadata": {},
     "output_type": "execute_result"
    }
   ],
   "execution_count": 67
  },
  {
   "metadata": {
    "ExecuteTime": {
     "end_time": "2025-09-21T15:07:08.360541Z",
     "start_time": "2025-09-21T15:07:08.356001Z"
    }
   },
   "cell_type": "code",
   "source": [
    "dp = [[j if i ==0 else i for j in range(n+1)] for i in range(m+1)]\n",
    "dp"
   ],
   "id": "934ed482fc6f2e4d",
   "outputs": [
    {
     "data": {
      "text/plain": [
       "[[0, 1, 2, 3, 4, 5, 6, 7, 8, 9],\n",
       " [1, 1, 1, 1, 1, 1, 1, 1, 1, 1],\n",
       " [2, 2, 2, 2, 2, 2, 2, 2, 2, 2],\n",
       " [3, 3, 3, 3, 3, 3, 3, 3, 3, 3],\n",
       " [4, 4, 4, 4, 4, 4, 4, 4, 4, 4],\n",
       " [5, 5, 5, 5, 5, 5, 5, 5, 5, 5],\n",
       " [6, 6, 6, 6, 6, 6, 6, 6, 6, 6],\n",
       " [7, 7, 7, 7, 7, 7, 7, 7, 7, 7],\n",
       " [8, 8, 8, 8, 8, 8, 8, 8, 8, 8],\n",
       " [9, 9, 9, 9, 9, 9, 9, 9, 9, 9]]"
      ]
     },
     "execution_count": 71,
     "metadata": {},
     "output_type": "execute_result"
    }
   ],
   "execution_count": 71
  },
  {
   "metadata": {
    "ExecuteTime": {
     "end_time": "2025-09-21T14:44:48.695294Z",
     "start_time": "2025-09-21T14:44:48.691310Z"
    }
   },
   "cell_type": "code",
   "source": [
    "word1 = \"intention\"\n",
    "word2 = \"execution\"\n",
    "m = len(word1)\n",
    "n = len(word2)\n",
    "\n",
    "dp = [[None]*(n+1) for _ in range(m+1)]\n",
    "for i in range(m+1):\n",
    "    for j in range(n+1):\n",
    "        if i == 0:\n",
    "            dp[i][j] = j\n",
    "        if j == 0:\n",
    "            dp[i][j] = i\n",
    "for i in range(1, m+1):\n",
    "    for j in range(1, n+1):\n",
    "        if word1[i-1] == word2[j-1]:\n",
    "            dp[i][j] = dp[i-1][j-1]\n",
    "        else:\n",
    "            dp[i][j] = 1 + min(dp[i-1][j-1],dp[i-1][j],dp[i][j-1])\n",
    "# dp[m][n]\n",
    "dp"
   ],
   "id": "5ef2679b87055a34",
   "outputs": [
    {
     "data": {
      "text/plain": [
       "[[0, 1, 2, 3, 4, 5, 6, 7, 8, 9],\n",
       " [1, 1, 2, 3, 4, 5, 6, 6, 7, 8],\n",
       " [2, 2, 2, 3, 4, 5, 6, 7, 7, 7],\n",
       " [3, 3, 3, 3, 4, 5, 5, 6, 7, 8],\n",
       " [4, 3, 4, 3, 4, 5, 6, 6, 7, 8],\n",
       " [5, 4, 4, 4, 4, 5, 6, 7, 7, 7],\n",
       " [6, 5, 5, 5, 5, 5, 5, 6, 7, 8],\n",
       " [7, 6, 6, 6, 6, 6, 6, 5, 6, 7],\n",
       " [8, 7, 7, 7, 7, 7, 7, 6, 5, 6],\n",
       " [9, 8, 8, 8, 8, 8, 8, 7, 6, 5]]"
      ]
     },
     "execution_count": 60,
     "metadata": {},
     "output_type": "execute_result"
    }
   ],
   "execution_count": 60
  },
  {
   "metadata": {
    "ExecuteTime": {
     "end_time": "2025-09-21T14:42:43.677694Z",
     "start_time": "2025-09-21T14:42:43.672871Z"
    }
   },
   "cell_type": "code",
   "source": "\n",
   "id": "a165b65a50cce02f",
   "outputs": [
    {
     "name": "stdout",
     "output_type": "stream",
     "text": [
      "1 1\n",
      "0 1 1\n",
      "1 2\n",
      "1 2 1\n",
      "1 3\n",
      "2 3 2\n",
      "2 1\n",
      "1 1 2\n",
      "2 2\n",
      "2 3\n",
      "2 3 1\n",
      "3 1\n",
      "3 2\n",
      "2 1 2\n",
      "3 3\n",
      "1 2 2\n",
      "4 1\n",
      "3 2 4\n",
      "4 2\n",
      "2 2 3\n",
      "4 3\n",
      "5 1\n",
      "4 3 5\n",
      "5 2\n",
      "3 3 4\n",
      "5 3\n",
      "3 2 4\n"
     ]
    },
    {
     "data": {
      "text/plain": [
       "[[0, 1, 2, 3],\n",
       " [1, 1, 2, 3],\n",
       " [2, 2, 1, 2],\n",
       " [3, 2, 2, 2],\n",
       " [4, 3, 3, 2],\n",
       " [5, 4, 4, 3]]"
      ]
     },
     "execution_count": 59,
     "metadata": {},
     "output_type": "execute_result"
    }
   ],
   "execution_count": 59
  },
  {
   "metadata": {
    "ExecuteTime": {
     "end_time": "2025-09-21T20:27:19.929193Z",
     "start_time": "2025-09-21T20:27:19.924585Z"
    }
   },
   "cell_type": "code",
   "source": [
    "\n",
    "d1={1:2,2:3}\n",
    "d2={1:2,2:1}\n",
    "\n",
    "d1 == d2"
   ],
   "id": "2cd9cf75e2150858",
   "outputs": [
    {
     "data": {
      "text/plain": [
       "False"
      ]
     },
     "execution_count": 93,
     "metadata": {},
     "output_type": "execute_result"
    }
   ],
   "execution_count": 93
  },
  {
   "metadata": {
    "ExecuteTime": {
     "end_time": "2025-09-21T20:27:21.288161Z",
     "start_time": "2025-09-21T20:27:21.284238Z"
    }
   },
   "cell_type": "code",
   "source": [
    "d3 = d1\n",
    "d1[1] = 1000\n",
    "d3"
   ],
   "id": "ab581461fa0b73dd",
   "outputs": [
    {
     "data": {
      "text/plain": [
       "{1: 1000, 2: 3}"
      ]
     },
     "execution_count": 94,
     "metadata": {},
     "output_type": "execute_result"
    }
   ],
   "execution_count": 94
  },
  {
   "metadata": {
    "ExecuteTime": {
     "end_time": "2025-09-21T20:27:58.424880Z",
     "start_time": "2025-09-21T20:27:58.422221Z"
    }
   },
   "cell_type": "code",
   "source": [
    "l1 = [1,2]\n",
    "l2=[1,2]\n",
    "\n",
    "l1 == l2"
   ],
   "id": "4173023484f69a1e",
   "outputs": [
    {
     "data": {
      "text/plain": [
       "True"
      ]
     },
     "execution_count": 96,
     "metadata": {},
     "output_type": "execute_result"
    }
   ],
   "execution_count": 96
  },
  {
   "metadata": {
    "ExecuteTime": {
     "end_time": "2025-09-21T20:27:59.572028Z",
     "start_time": "2025-09-21T20:27:59.567792Z"
    }
   },
   "cell_type": "code",
   "source": [
    "l3 = l1\n",
    "l1[0] = 9999\n",
    "l3"
   ],
   "id": "6d5dd6f2408579d3",
   "outputs": [
    {
     "data": {
      "text/plain": [
       "[9999, 2]"
      ]
     },
     "execution_count": 97,
     "metadata": {},
     "output_type": "execute_result"
    }
   ],
   "execution_count": 97
  },
  {
   "metadata": {
    "ExecuteTime": {
     "end_time": "2025-09-21T20:29:59.630082Z",
     "start_time": "2025-09-21T20:29:59.626312Z"
    }
   },
   "cell_type": "code",
   "source": [
    "s1 = \"33223\"\n",
    "s2 = \"1111\"\n",
    "s3 = s1\n",
    "s1 = s1 +\"32\"\n",
    "s3"
   ],
   "id": "5e6c89578382b48c",
   "outputs": [
    {
     "data": {
      "text/plain": [
       "'33223'"
      ]
     },
     "execution_count": 99,
     "metadata": {},
     "output_type": "execute_result"
    }
   ],
   "execution_count": 99
  },
  {
   "metadata": {
    "ExecuteTime": {
     "end_time": "2025-09-21T20:14:34.839385Z",
     "start_time": "2025-09-21T20:14:34.835926Z"
    }
   },
   "cell_type": "code",
   "source": "list(d1.values()) == [2,3]\n",
   "id": "ea0bfdfab79346c5",
   "outputs": [
    {
     "data": {
      "text/plain": [
       "True"
      ]
     },
     "execution_count": 85,
     "metadata": {},
     "output_type": "execute_result"
    }
   ],
   "execution_count": 85
  },
  {
   "metadata": {
    "ExecuteTime": {
     "end_time": "2025-09-21T20:22:25.398163Z",
     "start_time": "2025-09-21T20:22:25.394980Z"
    }
   },
   "cell_type": "code",
   "source": "d1[\"a\"] = l1",
   "id": "349fdd2a5bc2d5e5",
   "outputs": [],
   "execution_count": 89
  },
  {
   "metadata": {
    "ExecuteTime": {
     "end_time": "2025-09-21T20:22:29.562885Z",
     "start_time": "2025-09-21T20:22:29.558117Z"
    }
   },
   "cell_type": "code",
   "source": "d1",
   "id": "893e8461ae23e00a",
   "outputs": [
    {
     "data": {
      "text/plain": [
       "{1: 2, 2: 1, 'a': [1, 2]}"
      ]
     },
     "execution_count": 90,
     "metadata": {},
     "output_type": "execute_result"
    }
   ],
   "execution_count": 90
  },
  {
   "metadata": {
    "ExecuteTime": {
     "end_time": "2025-09-21T20:22:40.302281Z",
     "start_time": "2025-09-21T20:22:40.299263Z"
    }
   },
   "cell_type": "code",
   "source": "l1 = [212121,1212,2]",
   "id": "24ea4e6ed76f2151",
   "outputs": [],
   "execution_count": 91
  },
  {
   "metadata": {
    "ExecuteTime": {
     "end_time": "2025-09-21T20:22:44.502382Z",
     "start_time": "2025-09-21T20:22:44.498245Z"
    }
   },
   "cell_type": "code",
   "source": "d1 =",
   "id": "3372ed2d9f523ad7",
   "outputs": [
    {
     "data": {
      "text/plain": [
       "{1: 2, 2: 1, 'a': [1, 2]}"
      ]
     },
     "execution_count": 92,
     "metadata": {},
     "output_type": "execute_result"
    }
   ],
   "execution_count": 92
  },
  {
   "metadata": {
    "ExecuteTime": {
     "end_time": "2025-09-22T09:08:11.607834Z",
     "start_time": "2025-09-22T09:08:11.605847Z"
    }
   },
   "cell_type": "code",
   "source": [
    "for i in range(2,1):\n",
    "    print(i)"
   ],
   "id": "37b23b02fd000c0e",
   "outputs": [],
   "execution_count": 101
  },
  {
   "metadata": {
    "ExecuteTime": {
     "end_time": "2025-09-22T21:34:17.107974Z",
     "start_time": "2025-09-22T21:34:17.103325Z"
    }
   },
   "cell_type": "code",
   "source": "int(\"100\", 2) & int(\"1110000\", 2)",
   "id": "2c96ad7cda3706bf",
   "outputs": [
    {
     "data": {
      "text/plain": [
       "0"
      ]
     },
     "execution_count": 129,
     "metadata": {},
     "output_type": "execute_result"
    }
   ],
   "execution_count": 129
  },
  {
   "metadata": {
    "ExecuteTime": {
     "end_time": "2025-09-22T21:11:25.432182Z",
     "start_time": "2025-09-22T21:11:25.422157Z"
    }
   },
   "cell_type": "code",
   "source": [
    "ans = bin(\"100\",2) | bin(\"0b110\",2)\n",
    "bin(ans)"
   ],
   "id": "3c1795cbe9f991e2",
   "outputs": [
    {
     "ename": "TypeError",
     "evalue": "bin() takes exactly one argument (2 given)",
     "output_type": "error",
     "traceback": [
      "\u001B[0;31m---------------------------------------------------------------------------\u001B[0m",
      "\u001B[0;31mTypeError\u001B[0m                                 Traceback (most recent call last)",
      "Cell \u001B[0;32mIn[117], line 1\u001B[0m\n\u001B[0;32m----> 1\u001B[0m ans \u001B[38;5;241m=\u001B[39m \u001B[38;5;28;43mbin\u001B[39;49m\u001B[43m(\u001B[49m\u001B[38;5;124;43m\"\u001B[39;49m\u001B[38;5;124;43m0b100\u001B[39;49m\u001B[38;5;124;43m\"\u001B[39;49m\u001B[43m,\u001B[49m\u001B[38;5;241;43m2\u001B[39;49m\u001B[43m)\u001B[49m \u001B[38;5;241m|\u001B[39m \u001B[38;5;28mbin\u001B[39m(\u001B[38;5;124m\"\u001B[39m\u001B[38;5;124m0b110\u001B[39m\u001B[38;5;124m\"\u001B[39m,\u001B[38;5;241m2\u001B[39m)\n\u001B[1;32m      2\u001B[0m \u001B[38;5;28mbin\u001B[39m(ans)\n",
      "\u001B[0;31mTypeError\u001B[0m: bin() takes exactly one argument (2 given)"
     ]
    }
   ],
   "execution_count": 117
  },
  {
   "metadata": {
    "ExecuteTime": {
     "end_time": "2025-09-22T20:48:38.291060Z",
     "start_time": "2025-09-22T20:48:38.288460Z"
    }
   },
   "cell_type": "code",
   "source": "s = \"\"",
   "id": "9ea5aa2a671afa36",
   "outputs": [
    {
     "data": {
      "text/plain": [
       "'00'"
      ]
     },
     "execution_count": 110,
     "metadata": {},
     "output_type": "execute_result"
    }
   ],
   "execution_count": 110
  },
  {
   "metadata": {
    "ExecuteTime": {
     "end_time": "2025-09-23T07:53:53.083261Z",
     "start_time": "2025-09-23T07:25:31.153729Z"
    }
   },
   "cell_type": "code",
   "source": [
    "nums = [3,2,1,0,4]\n",
    "def canJump(nums: list[int]) -> bool:\n",
    "    i = 0\n",
    "    n = len(nums)\n",
    "    prev = [\"0\"] * n\n",
    "    for k in range(nums[0]+1):\n",
    "        prev[i+k] = \"1\"\n",
    "    for i, e in enumerate(nums[1:-1]):\n",
    "        curr = [\"0\"] * n\n",
    "        for j in range(e+1):\n",
    "            curr[i+j] = \"1\"\n",
    "        curr = \"\".join(curr)\n",
    "        # logical AND with prev\n",
    "        u = bin(int(prev, 2) & int(curr, 2))\n",
    "        print(u)\n",
    "        # u > 0\n",
    "        if \"1\" in u:\n",
    "            # logical OR to carry forward\n",
    "            prev = bin(int(prev, 2) | int(curr, 2))\n",
    "        else:\n",
    "            return False\n",
    "\n",
    "    print(\"final: \",prev )\n",
    "    return prev[-1] == \"1\"\n",
    "canJump(nums)"
   ],
   "id": "2b3af81aaab7e922",
   "outputs": [
    {
     "name": "stdout",
     "output_type": "stream",
     "text": [
      "0b11110\n",
      "0b1110\n"
     ]
    },
    {
     "ename": "KeyboardInterrupt",
     "evalue": "",
     "output_type": "error",
     "traceback": [
      "\u001B[0;31m---------------------------------------------------------------------------\u001B[0m",
      "\u001B[0;31mKeyboardInterrupt\u001B[0m                         Traceback (most recent call last)",
      "Cell \u001B[0;32mIn[4], line 23\u001B[0m\n\u001B[1;32m     21\u001B[0m     \u001B[38;5;28mprint\u001B[39m(\u001B[38;5;124m\"\u001B[39m\u001B[38;5;124mfinal: \u001B[39m\u001B[38;5;124m\"\u001B[39m,prev )\n\u001B[1;32m     22\u001B[0m     \u001B[38;5;28;01mreturn\u001B[39;00m prev[\u001B[38;5;241m-\u001B[39m\u001B[38;5;241m1\u001B[39m] \u001B[38;5;241m==\u001B[39m \u001B[38;5;124m\"\u001B[39m\u001B[38;5;124m1\u001B[39m\u001B[38;5;124m\"\u001B[39m\n\u001B[0;32m---> 23\u001B[0m \u001B[43mcanJump\u001B[49m\u001B[43m(\u001B[49m\u001B[43mnums\u001B[49m\u001B[43m)\u001B[49m\n",
      "Cell \u001B[0;32mIn[4], line 17\u001B[0m, in \u001B[0;36mcanJump\u001B[0;34m(nums)\u001B[0m\n\u001B[1;32m     14\u001B[0m \u001B[38;5;66;03m# u > 0\u001B[39;00m\n\u001B[1;32m     15\u001B[0m \u001B[38;5;28;01mif\u001B[39;00m \u001B[38;5;124m\"\u001B[39m\u001B[38;5;124m1\u001B[39m\u001B[38;5;124m\"\u001B[39m \u001B[38;5;129;01min\u001B[39;00m u:\n\u001B[1;32m     16\u001B[0m     \u001B[38;5;66;03m# logical OR to carry forward\u001B[39;00m\n\u001B[0;32m---> 17\u001B[0m     prev \u001B[38;5;241m=\u001B[39m \u001B[38;5;28;43mbin\u001B[39;49m(\u001B[38;5;28mint\u001B[39m(prev, \u001B[38;5;241m2\u001B[39m) \u001B[38;5;241m|\u001B[39m \u001B[38;5;28mint\u001B[39m(curr, \u001B[38;5;241m2\u001B[39m))\n\u001B[1;32m     18\u001B[0m \u001B[38;5;28;01melse\u001B[39;00m:\n\u001B[1;32m     19\u001B[0m     \u001B[38;5;28;01mreturn\u001B[39;00m \u001B[38;5;28;01mFalse\u001B[39;00m\n",
      "File \u001B[0;32m~/Library/Application Support/JetBrains/IntelliJIdea2025.1/plugins/python-ce/helpers/pydev/_pydevd_bundle/pydevd_frame.py:755\u001B[0m, in \u001B[0;36mPyDBFrame.trace_dispatch\u001B[0;34m(self, frame, event, arg)\u001B[0m\n\u001B[1;32m    753\u001B[0m \u001B[38;5;66;03m# if thread has a suspend flag, we suspend with a busy wait\u001B[39;00m\n\u001B[1;32m    754\u001B[0m \u001B[38;5;28;01mif\u001B[39;00m info\u001B[38;5;241m.\u001B[39mpydev_state \u001B[38;5;241m==\u001B[39m STATE_SUSPEND:\n\u001B[0;32m--> 755\u001B[0m     \u001B[38;5;28;43mself\u001B[39;49m\u001B[38;5;241;43m.\u001B[39;49m\u001B[43mdo_wait_suspend\u001B[49m\u001B[43m(\u001B[49m\u001B[43mthread\u001B[49m\u001B[43m,\u001B[49m\u001B[43m \u001B[49m\u001B[43mframe\u001B[49m\u001B[43m,\u001B[49m\u001B[43m \u001B[49m\u001B[43mevent\u001B[49m\u001B[43m,\u001B[49m\u001B[43m \u001B[49m\u001B[43marg\u001B[49m\u001B[43m)\u001B[49m\n\u001B[1;32m    756\u001B[0m     \u001B[38;5;66;03m# No need to reset frame.f_trace to keep the same trace function.\u001B[39;00m\n\u001B[1;32m    757\u001B[0m     \u001B[38;5;28;01mreturn\u001B[39;00m \u001B[38;5;28mself\u001B[39m\u001B[38;5;241m.\u001B[39mtrace_dispatch\n",
      "File \u001B[0;32m~/Library/Application Support/JetBrains/IntelliJIdea2025.1/plugins/python-ce/helpers/pydev/_pydevd_bundle/pydevd_frame.py:412\u001B[0m, in \u001B[0;36mPyDBFrame.do_wait_suspend\u001B[0;34m(self, *args, **kwargs)\u001B[0m\n\u001B[1;32m    411\u001B[0m \u001B[38;5;28;01mdef\u001B[39;00m\u001B[38;5;250m \u001B[39m\u001B[38;5;21mdo_wait_suspend\u001B[39m(\u001B[38;5;28mself\u001B[39m, \u001B[38;5;241m*\u001B[39margs, \u001B[38;5;241m*\u001B[39m\u001B[38;5;241m*\u001B[39mkwargs):\n\u001B[0;32m--> 412\u001B[0m     \u001B[38;5;28;43mself\u001B[39;49m\u001B[38;5;241;43m.\u001B[39;49m\u001B[43m_args\u001B[49m\u001B[43m[\u001B[49m\u001B[38;5;241;43m0\u001B[39;49m\u001B[43m]\u001B[49m\u001B[38;5;241;43m.\u001B[39;49m\u001B[43mdo_wait_suspend\u001B[49m\u001B[43m(\u001B[49m\u001B[38;5;241;43m*\u001B[39;49m\u001B[43margs\u001B[49m\u001B[43m,\u001B[49m\u001B[43m \u001B[49m\u001B[38;5;241;43m*\u001B[39;49m\u001B[38;5;241;43m*\u001B[39;49m\u001B[43mkwargs\u001B[49m\u001B[43m)\u001B[49m\n",
      "File \u001B[0;32m~/Library/Application Support/JetBrains/IntelliJIdea2025.1/plugins/python-ce/helpers/pydev/pydevd.py:1220\u001B[0m, in \u001B[0;36mPyDB.do_wait_suspend\u001B[0;34m(self, thread, frame, event, arg, send_suspend_message, is_unhandled_exception)\u001B[0m\n\u001B[1;32m   1217\u001B[0m         from_this_thread\u001B[38;5;241m.\u001B[39mappend(frame_id)\n\u001B[1;32m   1219\u001B[0m \u001B[38;5;28;01mwith\u001B[39;00m \u001B[38;5;28mself\u001B[39m\u001B[38;5;241m.\u001B[39m_threads_suspended_single_notification\u001B[38;5;241m.\u001B[39mnotify_thread_suspended(thread_id, stop_reason):\n\u001B[0;32m-> 1220\u001B[0m     \u001B[38;5;28;43mself\u001B[39;49m\u001B[38;5;241;43m.\u001B[39;49m\u001B[43m_do_wait_suspend\u001B[49m\u001B[43m(\u001B[49m\u001B[43mthread\u001B[49m\u001B[43m,\u001B[49m\u001B[43m \u001B[49m\u001B[43mframe\u001B[49m\u001B[43m,\u001B[49m\u001B[43m \u001B[49m\u001B[43mevent\u001B[49m\u001B[43m,\u001B[49m\u001B[43m \u001B[49m\u001B[43marg\u001B[49m\u001B[43m,\u001B[49m\u001B[43m \u001B[49m\u001B[43msuspend_type\u001B[49m\u001B[43m,\u001B[49m\u001B[43m \u001B[49m\u001B[43mfrom_this_thread\u001B[49m\u001B[43m)\u001B[49m\n",
      "File \u001B[0;32m~/Library/Application Support/JetBrains/IntelliJIdea2025.1/plugins/python-ce/helpers/pydev/pydevd.py:1235\u001B[0m, in \u001B[0;36mPyDB._do_wait_suspend\u001B[0;34m(self, thread, frame, event, arg, suspend_type, from_this_thread)\u001B[0m\n\u001B[1;32m   1232\u001B[0m             \u001B[38;5;28mself\u001B[39m\u001B[38;5;241m.\u001B[39m_call_mpl_hook()\n\u001B[1;32m   1234\u001B[0m         \u001B[38;5;28mself\u001B[39m\u001B[38;5;241m.\u001B[39mprocess_internal_commands()\n\u001B[0;32m-> 1235\u001B[0m         \u001B[43mtime\u001B[49m\u001B[38;5;241;43m.\u001B[39;49m\u001B[43msleep\u001B[49m\u001B[43m(\u001B[49m\u001B[38;5;241;43m0.01\u001B[39;49m\u001B[43m)\u001B[49m\n\u001B[1;32m   1237\u001B[0m \u001B[38;5;28mself\u001B[39m\u001B[38;5;241m.\u001B[39mcancel_async_evaluation(get_current_thread_id(thread), \u001B[38;5;28mstr\u001B[39m(\u001B[38;5;28mid\u001B[39m(frame)))\n\u001B[1;32m   1239\u001B[0m \u001B[38;5;66;03m# process any stepping instructions\u001B[39;00m\n",
      "\u001B[0;31mKeyboardInterrupt\u001B[0m: "
     ]
    }
   ],
   "execution_count": 4
  },
  {
   "metadata": {},
   "cell_type": "code",
   "outputs": [],
   "execution_count": null,
   "source": "",
   "id": "643193b02544af57"
  }
 ],
 "metadata": {
  "kernelspec": {
   "display_name": "Python 3",
   "language": "python",
   "name": "python3"
  },
  "language_info": {
   "codemirror_mode": {
    "name": "ipython",
    "version": 2
   },
   "file_extension": ".py",
   "mimetype": "text/x-python",
   "name": "python",
   "nbconvert_exporter": "python",
   "pygments_lexer": "ipython2",
   "version": "2.7.6"
  }
 },
 "nbformat": 4,
 "nbformat_minor": 5
}
