{
 "cells": [
  {
   "cell_type": "code",
   "id": "initial_id",
   "metadata": {
    "collapsed": true,
    "ExecuteTime": {
     "end_time": "2025-09-20T08:54:09.103947Z",
     "start_time": "2025-09-20T08:54:09.098346Z"
    }
   },
   "source": [
    "matrix = [[1,2,3],[4,5,6],[7,8,9]]\n",
    "matrix = [[5,1,9,11],[2,4,8,10],[13,3,6,7],[15,14,12,16]]\n",
    "\n",
    "for i in range(len(matrix)):\n",
    "    for j in range(i, len(matrix[i])):\n",
    "        c = matrix[i][j]\n",
    "        matrix[i][j] = matrix[j][i]\n",
    "        matrix[j][i] = c\n",
    "for i in range(len(matrix[0])):\n",
    "    c = matrix[:][i]\n",
    "    matrix[:][i] = matrix[:][len(matrix[0]) - i - 1]"
   ],
   "outputs": [
    {
     "data": {
      "text/plain": [
       "[[5, 2, 13, 15], [1, 4, 3, 14], [9, 8, 6, 12], [11, 10, 7, 16]]"
      ]
     },
     "execution_count": 10,
     "metadata": {},
     "output_type": "execute_result"
    }
   ],
   "execution_count": 10
  },
  {
   "metadata": {
    "ExecuteTime": {
     "end_time": "2025-09-20T09:18:36.045393Z",
     "start_time": "2025-09-20T09:18:36.039742Z"
    }
   },
   "cell_type": "code",
   "source": [
    "matrix = [[1,2,3],[4,5,6],[7,8,9]]\n",
    "for i in range(len(matrix)):\n",
    "    for j in range(len(matrix[0]) // 2):\n",
    "        c = matrix[i][j]\n",
    "        matrix[i][j] = matrix[len(matrix)-j-1][i]\n",
    "        matrix[len(matrix)-j-1][i] = c\n",
    "\n",
    "matrix"
   ],
   "id": "940c589f2e3b2541",
   "outputs": [
    {
     "data": {
      "text/plain": [
       "[[7, 2, 3], [8, 5, 6], [9, 4, 1]]"
      ]
     },
     "execution_count": 29,
     "metadata": {},
     "output_type": "execute_result"
    }
   ],
   "execution_count": 29
  },
  {
   "metadata": {
    "ExecuteTime": {
     "end_time": "2025-09-20T09:13:31.829131Z",
     "start_time": "2025-09-20T09:13:31.825685Z"
    }
   },
   "cell_type": "code",
   "source": [
    "matrix = [[1,2,3],[4,5,6],[7,8,9]]\n",
    "print(matrix[0][:])\n",
    "print(matrix[:][0])"
   ],
   "id": "a0682747c0d1aef4",
   "outputs": [
    {
     "name": "stdout",
     "output_type": "stream",
     "text": [
      "[1, 2, 3]\n",
      "[1, 2, 3]\n"
     ]
    }
   ],
   "execution_count": 27
  },
  {
   "metadata": {
    "ExecuteTime": {
     "end_time": "2025-09-21T11:39:54.211253Z",
     "start_time": "2025-09-21T11:39:54.207197Z"
    }
   },
   "cell_type": "code",
   "source": [
    "\n",
    "def rle_encode(s: str):\n",
    "    res = \"\"\n",
    "    i_s_p = s[0]\n",
    "    c = 1\n",
    "    for i_s in s[1:]:\n",
    "        if i_s_p == i_s:\n",
    "            c += 1\n",
    "        else:\n",
    "            res += str(c) + i_s_p\n",
    "            c = 1\n",
    "            i_s_p = i_s\n",
    "\n",
    "    res += str(c) + i_s_p\n",
    "    return res\n",
    "\n",
    "print(rle_encode(\"1211455555000\"))"
   ],
   "id": "713199f36739acc8",
   "outputs": [
    {
     "name": "stdout",
     "output_type": "stream",
     "text": [
      "111221145530\n"
     ]
    }
   ],
   "execution_count": 37
  }
 ],
 "metadata": {
  "kernelspec": {
   "display_name": "Python 3",
   "language": "python",
   "name": "python3"
  },
  "language_info": {
   "codemirror_mode": {
    "name": "ipython",
    "version": 2
   },
   "file_extension": ".py",
   "mimetype": "text/x-python",
   "name": "python",
   "nbconvert_exporter": "python",
   "pygments_lexer": "ipython2",
   "version": "2.7.6"
  }
 },
 "nbformat": 4,
 "nbformat_minor": 5
}
